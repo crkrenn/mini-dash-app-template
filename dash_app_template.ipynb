{
 "cells": [
  {
   "cell_type": "code",
   "execution_count": 1,
   "metadata": {},
   "outputs": [
    {
     "name": "stdout",
     "output_type": "stream",
     "text": [
      "interactive!\n"
     ]
    },
    {
     "data": {
      "text/html": [
       "\n",
       "        <iframe\n",
       "            width=\"100%\"\n",
       "            height=\"650\"\n",
       "            src=\"http://127.0.0.1:8050/\"\n",
       "            frameborder=\"0\"\n",
       "            allowfullscreen\n",
       "            \n",
       "        ></iframe>\n",
       "        "
      ],
      "text/plain": [
       "<IPython.lib.display.IFrame at 0x7f8252b65b50>"
      ]
     },
     "metadata": {},
     "output_type": "display_data"
    }
   ],
   "source": [
    "#######################\n",
    "# notes\n",
    "#######################\n",
    "\n",
    "#######################\n",
    "# python imports\n",
    "#######################\n",
    "\n",
    "# system\n",
    "import json\n",
    "\n",
    "# community\n",
    "import pandas as pd\n",
    "\n",
    "# plotly/dash\n",
    "import dash\n",
    "import plotly.express as px\n",
    "from dash import dcc\n",
    "from dash import html\n",
    "from dash.dependencies import Input, Output\n",
    "import plotly.graph_objs as go\n",
    "\n",
    "# support for JupyterDash\n",
    "\n",
    "def is_interactive():\n",
    "    import __main__ as main\n",
    "    return not hasattr(main, '__file__')\n",
    "\n",
    "if is_interactive():\n",
    "    print(\"interactive!\")\n",
    "    from jupyter_dash import JupyterDash\n",
    "\n",
    "#######################\n",
    "# Data Analysis / Model\n",
    "#######################\n",
    "\n",
    "df = px.data.stocks()\n",
    "\n",
    "#########################\n",
    "# Dashboard Layout / View\n",
    "#########################\n",
    "\n",
    "if is_interactive():\n",
    "    app = JupyterDash()\n",
    "else:\n",
    "    app = dash.Dash()\n",
    "\n",
    "app.layout = html.Div(\n",
    "    id='parent',\n",
    "    children=[\n",
    "        html.H1(\n",
    "            id='H1',\n",
    "            children='Styling using html components',\n",
    "            style={'textAlign': 'center', 'marginTop': 40, 'marginBottom': 40}),\n",
    "        dcc.Dropdown(\n",
    "            id='dropdown',\n",
    "            options=[\n",
    "                {'label': 'Google', 'value': 'GOOG'},\n",
    "                {'label': 'Apple', 'value': 'AAPL'},\n",
    "                {'label': 'Amazon', 'value': 'AMZN'},\n",
    "                ],\n",
    "            value='GOOG'),\n",
    "        dcc.Graph(id='bar_plot')\n",
    "    ])\n",
    "\n",
    "#############################################\n",
    "# Interaction Between Components / Controller\n",
    "#############################################\n",
    "\n",
    "\n",
    "@app.callback(\n",
    "    Output(component_id='bar_plot', component_property='figure'),\n",
    "    [Input(component_id='dropdown', component_property='value')])\n",
    "\n",
    "def graph_update(dropdown_value):\n",
    "    print(dropdown_value)\n",
    "    fig = go.Figure(\n",
    "        [go.Scatter(\n",
    "            x=df['date'],\n",
    "            y=df['{}'.format(dropdown_value)],\n",
    "            line=dict(color='firebrick', width=4))\n",
    "        ])\n",
    "    fig.update_layout(\n",
    "        title='Stock prices over time',\n",
    "        xaxis_title='Dates',\n",
    "        yaxis_title='Prices'\n",
    "    )\n",
    "    return fig\n",
    "\n",
    "if __name__ == '__main__':\n",
    "    if is_interactive():\n",
    "        app.run_server(mode='inline')\n",
    "    else:\n",
    "        app.run_server(debug=True, port=8893)\n"
   ]
  },
  {
   "cell_type": "code",
   "execution_count": null,
   "metadata": {},
   "outputs": [],
   "source": []
  }
 ],
 "metadata": {
  "kernelspec": {
   "display_name": "Python 3.8.8 ('venv_maine_analysis': venv)",
   "language": "python",
   "name": "python3"
  },
  "language_info": {
   "codemirror_mode": {
    "name": "ipython",
    "version": 3
   },
   "file_extension": ".py",
   "mimetype": "text/x-python",
   "name": "python",
   "nbconvert_exporter": "python",
   "pygments_lexer": "ipython3",
   "version": "3.8.8"
  },
  "orig_nbformat": 4,
  "vscode": {
   "interpreter": {
    "hash": "6cfa0c4e1717ee0f61d43b28b6d3a7097593b10b9fae7a1ec93bde68ee5d4431"
   }
  }
 },
 "nbformat": 4,
 "nbformat_minor": 2
}
